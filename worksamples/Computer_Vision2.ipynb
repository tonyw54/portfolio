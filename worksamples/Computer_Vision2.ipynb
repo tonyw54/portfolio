{
  "cells": [
    {
      "cell_type": "markdown",
      "metadata": {
        "id": "view-in-github",
        "colab_type": "text"
      },
      "source": [
        "<a href=\"https://colab.research.google.com/github/tonyw54/GeorgeBrown/blob/main/Computer_Vision2.ipynb\" target=\"_parent\"><img src=\"https://colab.research.google.com/assets/colab-badge.svg\" alt=\"Open In Colab\"/></a>"
      ]
    },
    {
      "cell_type": "code",
      "execution_count": null,
      "metadata": {
        "colab": {
          "base_uri": "https://localhost:8080/",
          "height": 84,
          "referenced_widgets": [
            "b51ce2ad79094c6d9e06552d3dd6432a",
            "2ad2a69021064f278841d2c6bb856bba",
            "8d17f2a12ef949c49b2e88a2d7722587",
            "1911d1a4af22487a9bbe0ddf2b58022e",
            "19ac67360bc24dccbe1add8763b54857"
          ]
        },
        "id": "A9AOyl4P8TrC",
        "outputId": "bbc2bb96-575b-4f4c-f1d3-4b04a2b85ad6"
      },
      "outputs": [
        {
          "data": {
            "application/vnd.jupyter.widget-view+json": {
              "model_id": "b51ce2ad79094c6d9e06552d3dd6432a",
              "version_major": 2,
              "version_minor": 0
            },
            "text/plain": [
              "VBox(children=(HTML(value='<center> <img\\nsrc=https://www.kaggle.com/static/images/site-logo.png\\nalt=\\'Kaggle…"
            ]
          },
          "metadata": {},
          "output_type": "display_data"
        },
        {
          "name": "stdout",
          "output_type": "stream",
          "text": [
            "Kaggle credentials set.\n",
            "Kaggle credentials successfully validated.\n"
          ]
        }
      ],
      "source": [
        "# IMPORTANT: SOME KAGGLE DATA SOURCES ARE PRIVATE\n",
        "# RUN THIS CELL IN ORDER TO IMPORT YOUR KAGGLE DATA SOURCES.\n",
        "import kagglehub\n",
        "kagglehub.login()\n"
      ]
    },
    {
      "cell_type": "code",
      "execution_count": null,
      "metadata": {
        "colab": {
          "base_uri": "https://localhost:8080/"
        },
        "id": "hoCTdApT91DB",
        "outputId": "c75ce405-4ab4-4271-fb87-5fbe3d550060"
      },
      "outputs": [
        {
          "name": "stdout",
          "output_type": "stream",
          "text": [
            "Downloading from https://www.kaggle.com/api/v1/competitions/data/download-all/computer-vision-xm...\n"
          ]
        },
        {
          "name": "stderr",
          "output_type": "stream",
          "text": [
            "100%|██████████| 6.20G/6.20G [05:11<00:00, 21.4MB/s]"
          ]
        },
        {
          "name": "stdout",
          "output_type": "stream",
          "text": [
            "Extracting files...\n"
          ]
        },
        {
          "name": "stderr",
          "output_type": "stream",
          "text": [
            "\n"
          ]
        },
        {
          "name": "stdout",
          "output_type": "stream",
          "text": [
            "Directory '/root/.cache/kagglehub/competitions/computer-vision-xm' copied to '/content/computer-vision-xm' successfully.\n"
          ]
        }
      ],
      "source": [
        "import zipfile\n",
        "import shutil\n",
        "import os\n",
        "\n",
        "# Re-download competition data\n",
        "computer_vision_xm_path = kagglehub.competition_download('computer-vision-xm')\n",
        "\n",
        "source_dir = '/root/.cache/kagglehub/competitions/computer-vision-xm'\n",
        "destination_dir = '/content/computer-vision-xm'  # Create a folder in '/content/'\n",
        "\n",
        "shutil.copytree(source_dir, destination_dir)\n",
        "\n",
        "shutil.rmtree('/root/.cache/kagglehub/competitions/computer-vision-xm', ignore_errors=True)\n",
        "\n",
        "print(f\"Directory '{source_dir}' copied to '{destination_dir}' successfully.\")"
      ]
    },
    {
      "cell_type": "code",
      "execution_count": null,
      "metadata": {
        "colab": {
          "base_uri": "https://localhost:8080/"
        },
        "id": "s5qIpnvqrBPj",
        "outputId": "e8ed092c-5006-4b2a-9703-0841b5c2befa"
      },
      "outputs": [
        {
          "name": "stderr",
          "output_type": "stream",
          "text": [
            "/usr/local/lib/python3.10/dist-packages/albumentations/__init__.py:24: UserWarning: A new version of Albumentations is available: 1.4.21 (you have 1.4.20). Upgrade using: pip install -U albumentations. To disable automatic update checks, set the environment variable NO_ALBUMENTATIONS_UPDATE to 1.\n",
            "  check_for_updates()\n"
          ]
        }
      ],
      "source": [
        "import torch\n",
        "import torch.nn as nn\n",
        "import torch.optim as optim\n",
        "from torch.utils.data import Dataset, DataLoader\n",
        "from torchvision import transforms, models\n",
        "import timm\n",
        "from PIL import Image\n",
        "import pandas as pd\n",
        "import os\n",
        "from sklearn.model_selection import train_test_split\n",
        "import numpy as np\n",
        "import albumentations as A\n",
        "from albumentations.pytorch import ToTensorV2"
      ]
    },
    {
      "cell_type": "code",
      "execution_count": null,
      "metadata": {
        "id": "zov0quRjrDkQ"
      },
      "outputs": [],
      "source": [
        "class LeafDataset(Dataset):\n",
        "    def __init__(self, img_dir, df, transform=None, is_test=False):\n",
        "        self.img_dir = img_dir\n",
        "        self.df = df\n",
        "        self.transform = transform\n",
        "        self.is_test = is_test\n",
        "\n",
        "    def __len__(self):\n",
        "        return len(self.df)\n",
        "\n",
        "    def __getitem__(self, idx):\n",
        "        img_name = self.df.iloc[idx, 1]\n",
        "        img_path = os.path.join(self.img_dir, img_name)\n",
        "\n",
        "        # Load image as numpy array for albumentations\n",
        "        image = np.array(Image.open(img_path).convert('RGB'))\n",
        "\n",
        "        if self.transform:\n",
        "            augmented = self.transform(image=image)\n",
        "            image = augmented['image']\n",
        "\n",
        "        if self.is_test:\n",
        "            return image, img_name\n",
        "        else:\n",
        "            label = self.df.iloc[idx, 2]\n",
        "            return image, label"
      ]
    },
    {
      "cell_type": "code",
      "execution_count": null,
      "metadata": {
        "id": "nv2BlhxTrGpH"
      },
      "outputs": [],
      "source": [
        "class ImprovedLeafClassifier(nn.Module):\n",
        "    def __init__(self, num_classes=2):\n",
        "        super(ImprovedLeafClassifier, self).__init__()\n",
        "        # Use EfficientNetV2 as backbone - stronger than ResNet18\n",
        "        self.model = timm.create_model('efficientnetv2_rw_s', pretrained=True)\n",
        "\n",
        "        # Freeze early layers\n",
        "        for name, param in self.model.named_parameters():\n",
        "            if \"blocks.0\" in name or \"blocks.1\" in name or \"blocks.2\" in name:\n",
        "                param.requires_grad = False\n",
        "\n",
        "        # Replace classifier head\n",
        "        num_features = self.model.classifier.in_features\n",
        "        self.model.classifier = nn.Sequential(\n",
        "            nn.Linear(num_features, 512),\n",
        "            nn.BatchNorm1d(512),\n",
        "            nn.ReLU(),\n",
        "            nn.Dropout(0.5),\n",
        "            nn.Linear(512, 256),\n",
        "            nn.BatchNorm1d(256),\n",
        "            nn.ReLU(),\n",
        "            nn.Dropout(0.3),\n",
        "            nn.Linear(256, num_classes)\n",
        "        )\n",
        "\n",
        "    def forward(self, x):\n",
        "        return self.model(x)\n"
      ]
    },
    {
      "cell_type": "code",
      "execution_count": null,
      "metadata": {
        "id": "RiAq0nT_rJWb"
      },
      "outputs": [],
      "source": [
        "def create_data_loaders(img_dir, train_csv, test_csv, batch_size=16):\n",
        "    train_df = pd.read_csv(train_csv)\n",
        "    test_df = pd.read_csv(test_csv)\n",
        "\n",
        "    # More aggressive data augmentation\n",
        "    train_transform = A.Compose([\n",
        "        A.RandomResizedCrop(height=384, width=384, scale=(0.8, 1.0)),\n",
        "        A.HorizontalFlip(p=0.5),\n",
        "        A.VerticalFlip(p=0.5),\n",
        "        A.RandomRotate90(p=0.5),\n",
        "        A.ShiftScaleRotate(p=0.5),\n",
        "        A.OneOf([\n",
        "            A.GaussNoise(var_limit=(10.0, 50.0)),\n",
        "            A.GaussianBlur(),\n",
        "            A.MotionBlur(),\n",
        "        ], p=0.3),\n",
        "        A.OneOf([\n",
        "            A.OpticalDistortion(),\n",
        "            A.GridDistortion(),\n",
        "        ], p=0.3),\n",
        "        A.ColorJitter(brightness=0.2, contrast=0.2, saturation=0.2, hue=0.1, p=0.5),\n",
        "        A.Normalize(mean=[0.485, 0.456, 0.406], std=[0.229, 0.224, 0.225]),\n",
        "        ToTensorV2()\n",
        "    ])\n",
        "\n",
        "    val_transform = A.Compose([\n",
        "        A.Resize(384, 384),\n",
        "        A.Normalize(mean=[0.485, 0.456, 0.406], std=[0.229, 0.224, 0.225]),\n",
        "        ToTensorV2()\n",
        "    ])\n",
        "\n",
        "    # Stratified split with larger validation set\n",
        "    train_df, val_df = train_test_split(\n",
        "        train_df, test_size=0.15, random_state=42, stratify=train_df['Labels']\n",
        "    )\n",
        "\n",
        "    # Create datasets\n",
        "    train_dataset = LeafDataset(img_dir, train_df, train_transform)\n",
        "    val_dataset = LeafDataset(img_dir, val_df, val_transform)\n",
        "    test_dataset = LeafDataset(img_dir, test_df, val_transform, is_test=True)\n",
        "\n",
        "    # Create data loaders with appropriate batch sizes\n",
        "    train_loader = DataLoader(\n",
        "        train_dataset,\n",
        "        batch_size=batch_size,\n",
        "        shuffle=True,\n",
        "        num_workers=4,\n",
        "        pin_memory=True\n",
        "    )\n",
        "    val_loader = DataLoader(\n",
        "        val_dataset,\n",
        "        batch_size=batch_size,\n",
        "        shuffle=False,\n",
        "        num_workers=4,\n",
        "        pin_memory=True\n",
        "    )\n",
        "    test_loader = DataLoader(\n",
        "        test_dataset,\n",
        "        batch_size=batch_size,\n",
        "        shuffle=False,\n",
        "        num_workers=4,\n",
        "        pin_memory=True\n",
        "    )\n",
        "\n",
        "    return train_loader, val_loader, test_loader"
      ]
    },
    {
      "cell_type": "code",
      "execution_count": null,
      "metadata": {
        "id": "SyBh2QxkrNHf"
      },
      "outputs": [],
      "source": [
        "def train_model(model, train_loader, val_loader, num_epochs=20):\n",
        "    device = torch.device(\"cuda\" if torch.cuda.is_available() else \"cpu\")\n",
        "    model = model.to(device)\n",
        "\n",
        "    # Use weighted loss if classes are imbalanced\n",
        "    criterion = nn.CrossEntropyLoss()\n",
        "\n",
        "    # Use AdamW with weight decay\n",
        "    optimizer = optim.AdamW(\n",
        "        [\n",
        "            {'params': (p for n, p in model.named_parameters() if 'classifier' not in n), 'lr': 1e-4},\n",
        "            {'params': (p for n, p in model.named_parameters() if 'classifier' in n), 'lr': 1e-3}\n",
        "        ],\n",
        "        weight_decay=0.01\n",
        "    )\n",
        "\n",
        "    # Cosine annealing scheduler with warmup\n",
        "    scheduler = optim.lr_scheduler.OneCycleLR(\n",
        "        optimizer,\n",
        "        max_lr=[1e-4, 1e-3],\n",
        "        epochs=num_epochs,\n",
        "        steps_per_epoch=len(train_loader),\n",
        "        pct_start=0.1,\n",
        "        anneal_strategy='cos'\n",
        "    )\n",
        "\n",
        "    best_val_loss = float('inf')\n",
        "    patience = 5\n",
        "    patience_counter = 0\n",
        "\n",
        "    scaler = torch.cuda.amp.GradScaler()  # For mixed precision training\n",
        "\n",
        "    for epoch in range(num_epochs):\n",
        "        # Training phase\n",
        "        model.train()\n",
        "        train_loss = 0\n",
        "        correct = 0\n",
        "        total = 0\n",
        "\n",
        "        for images, labels in train_loader:\n",
        "            images, labels = images.to(device), labels.to(device)\n",
        "\n",
        "            optimizer.zero_grad()\n",
        "\n",
        "            # Use mixed precision training\n",
        "            with torch.cuda.amp.autocast():\n",
        "                outputs = model(images)\n",
        "                loss = criterion(outputs, labels)\n",
        "\n",
        "            scaler.scale(loss).backward()\n",
        "            scaler.step(optimizer)\n",
        "            scaler.update()\n",
        "\n",
        "            scheduler.step()\n",
        "\n",
        "            train_loss += loss.item()\n",
        "            _, predicted = outputs.max(1)\n",
        "            total += labels.size(0)\n",
        "            correct += predicted.eq(labels).sum().item()\n",
        "\n",
        "        train_accuracy = 100 * correct / total\n",
        "\n",
        "        # Validation phase\n",
        "        model.eval()\n",
        "        val_loss = 0\n",
        "        correct = 0\n",
        "        total = 0\n",
        "\n",
        "        with torch.no_grad():\n",
        "            for images, labels in val_loader:\n",
        "                images, labels = images.to(device), labels.to(device)\n",
        "                outputs = model(images)\n",
        "                loss = criterion(outputs, labels)\n",
        "\n",
        "                val_loss += loss.item()\n",
        "                _, predicted = outputs.max(1)\n",
        "                total += labels.size(0)\n",
        "                correct += predicted.eq(labels).sum().item()\n",
        "\n",
        "        val_accuracy = 100 * correct / total\n",
        "        avg_train_loss = train_loss / len(train_loader)\n",
        "        avg_val_loss = val_loss / len(val_loader)\n",
        "\n",
        "        print(f'Epoch [{epoch+1}/{num_epochs}]')\n",
        "        print(f'Train Loss: {avg_train_loss:.4f}, Train Acc: {train_accuracy:.2f}%')\n",
        "        print(f'Val Loss: {avg_val_loss:.4f}, Val Acc: {val_accuracy:.2f}%')\n",
        "\n",
        "        # Early stopping with patience\n",
        "        if avg_val_loss < best_val_loss:\n",
        "            best_val_loss = avg_val_loss\n",
        "            patience_counter = 0\n",
        "            torch.save({\n",
        "                'epoch': epoch,\n",
        "                'model_state_dict': model.state_dict(),\n",
        "                'optimizer_state_dict': optimizer.state_dict(),\n",
        "                'val_loss': best_val_loss,\n",
        "            }, 'best_leaf_classifier.pth')\n",
        "        else:\n",
        "            patience_counter += 1\n",
        "            if patience_counter >= patience:\n",
        "                print(f'Early stopping triggered after epoch {epoch+1}')\n",
        "                break"
      ]
    },
    {
      "cell_type": "code",
      "execution_count": null,
      "metadata": {
        "id": "o-GxesovrSBc"
      },
      "outputs": [],
      "source": [
        "def generate_test_predictions(model, test_loader, output_file='submission.csv'):\n",
        "    device = torch.device(\"cuda\" if torch.cuda.is_available() else \"cpu\")\n",
        "    model = model.to(device)\n",
        "    model.eval()\n",
        "\n",
        "    predictions = []\n",
        "    filenames = []\n",
        "\n",
        "    with torch.no_grad():\n",
        "        for images, img_names in test_loader:\n",
        "            images = images.to(device)\n",
        "            outputs = model(images)\n",
        "            _, predicted = torch.max(outputs.data, 1)\n",
        "\n",
        "            predictions.extend(predicted.cpu().numpy())\n",
        "            filenames.extend(img_names)\n",
        "\n",
        "    # Create predictions DataFrame\n",
        "    predictions_df = pd.DataFrame({\n",
        "        'Images': filenames,\n",
        "        'Labels': predictions\n",
        "    })\n",
        "\n",
        "    # Save predictions\n",
        "    predictions_df.to_csv(output_file, index=False)\n",
        "    print(f\"Predictions saved to {output_file}\")"
      ]
    },
    {
      "cell_type": "code",
      "execution_count": null,
      "metadata": {
        "colab": {
          "background_save": true,
          "base_uri": "https://localhost:8080/"
        },
        "id": "BuvUyNBVq8ux",
        "outputId": "1fe71b71-7a9d-4b71-9516-0375614d9397"
      },
      "outputs": [
        {
          "name": "stderr",
          "output_type": "stream",
          "text": [
            "<ipython-input-28-764f2e62a640>:31: FutureWarning: `torch.cuda.amp.GradScaler(args...)` is deprecated. Please use `torch.amp.GradScaler('cuda', args...)` instead.\n",
            "  scaler = torch.cuda.amp.GradScaler()  # For mixed precision training\n",
            "<ipython-input-28-764f2e62a640>:46: FutureWarning: `torch.cuda.amp.autocast(args...)` is deprecated. Please use `torch.amp.autocast('cuda', args...)` instead.\n",
            "  with torch.cuda.amp.autocast():\n"
          ]
        },
        {
          "name": "stdout",
          "output_type": "stream",
          "text": [
            "Epoch [1/20]\n",
            "Train Loss: 0.5472, Train Acc: 69.16%\n",
            "Val Loss: 0.2756, Val Acc: 88.61%\n",
            "Epoch [2/20]\n",
            "Train Loss: 0.2163, Train Acc: 91.52%\n",
            "Val Loss: 0.1573, Val Acc: 94.70%\n",
            "Epoch [3/20]\n",
            "Train Loss: 0.1563, Train Acc: 94.48%\n",
            "Val Loss: 0.1302, Val Acc: 96.07%\n",
            "Epoch [4/20]\n",
            "Train Loss: 0.1225, Train Acc: 95.52%\n",
            "Val Loss: 0.1200, Val Acc: 96.07%\n",
            "Epoch [5/20]\n",
            "Train Loss: 0.1046, Train Acc: 96.42%\n",
            "Val Loss: 0.1043, Val Acc: 95.87%\n",
            "Epoch [6/20]\n",
            "Train Loss: 0.0940, Train Acc: 97.08%\n",
            "Val Loss: 0.0823, Val Acc: 97.25%\n",
            "Epoch [7/20]\n",
            "Train Loss: 0.0835, Train Acc: 97.08%\n",
            "Val Loss: 0.0854, Val Acc: 97.64%\n",
            "Epoch [8/20]\n",
            "Train Loss: 0.0691, Train Acc: 97.71%\n",
            "Val Loss: 0.0794, Val Acc: 97.05%\n",
            "Epoch [9/20]\n",
            "Train Loss: 0.0646, Train Acc: 97.67%\n",
            "Val Loss: 0.0997, Val Acc: 96.46%\n",
            "Epoch [10/20]\n",
            "Train Loss: 0.0690, Train Acc: 97.85%\n",
            "Val Loss: 0.0904, Val Acc: 97.45%\n",
            "Epoch [11/20]\n",
            "Train Loss: 0.0544, Train Acc: 98.30%\n",
            "Val Loss: 0.0945, Val Acc: 97.05%\n",
            "Epoch [12/20]\n",
            "Train Loss: 0.0433, Train Acc: 98.44%\n",
            "Val Loss: 0.0832, Val Acc: 97.45%\n",
            "Epoch [13/20]\n",
            "Train Loss: 0.0482, Train Acc: 98.47%\n",
            "Val Loss: 0.0895, Val Acc: 97.45%\n",
            "Early stopping triggered after epoch 13\n",
            "Predictions saved to submission.csv\n"
          ]
        }
      ],
      "source": [
        "# Usage example\n",
        "if __name__ == \"__main__\":\n",
        "    # Initialize model and data loaders\n",
        "    model = ImprovedLeafClassifier()\n",
        "\n",
        "    # Paths to your data\n",
        "    IMG_DIR = '/content/computer-vision-xm/images/kaggle/working/Reorganized_Data/images'\n",
        "    TRAIN_CSV = '/content/computer-vision-xm/train.csv'\n",
        "    TEST_CSV = '/content/computer-vision-xm/test.csv'\n",
        "\n",
        "    # Create data loaders\n",
        "    train_loader, val_loader, test_loader = create_data_loaders(\n",
        "        IMG_DIR, TRAIN_CSV, TEST_CSV, batch_size=32\n",
        "    )\n",
        "\n",
        "    # Train the model\n",
        "    train_model(model, train_loader, val_loader)\n",
        "\n",
        "    # Generate predictions for test set\n",
        "    generate_test_predictions(model, test_loader)"
      ]
    }
  ],
  "metadata": {
    "accelerator": "GPU",
    "colab": {
      "gpuType": "T4",
      "machine_shape": "hm",
      "provenance": [],
      "include_colab_link": true
    },
    "kaggle": {
      "accelerator": "gpu",
      "dataSources": [
        {
          "databundleVersionId": 9414711,
          "sourceId": 84209,
          "sourceType": "competition"
        }
      ],
      "dockerImageVersionId": 30786,
      "isGpuEnabled": true,
      "isInternetEnabled": true,
      "language": "python",
      "sourceType": "notebook"
    },
    "kernelspec": {
      "display_name": "Python 3",
      "name": "python3"
    },
    "language_info": {
      "codemirror_mode": {
        "name": "ipython",
        "version": 3
      },
      "file_extension": ".py",
      "mimetype": "text/x-python",
      "name": "python",
      "nbconvert_exporter": "python",
      "pygments_lexer": "ipython3",
      "version": "3.10.14"
    },
    "widgets": {
      "application/vnd.jupyter.widget-state+json": {
        "1911d1a4af22487a9bbe0ddf2b58022e": {
          "model_module": "@jupyter-widgets/base",
          "model_module_version": "1.2.0",
          "model_name": "LayoutModel",
          "state": {
            "_model_module": "@jupyter-widgets/base",
            "_model_module_version": "1.2.0",
            "_model_name": "LayoutModel",
            "_view_count": null,
            "_view_module": "@jupyter-widgets/base",
            "_view_module_version": "1.2.0",
            "_view_name": "LayoutView",
            "align_content": null,
            "align_items": null,
            "align_self": null,
            "border": null,
            "bottom": null,
            "display": null,
            "flex": null,
            "flex_flow": null,
            "grid_area": null,
            "grid_auto_columns": null,
            "grid_auto_flow": null,
            "grid_auto_rows": null,
            "grid_column": null,
            "grid_gap": null,
            "grid_row": null,
            "grid_template_areas": null,
            "grid_template_columns": null,
            "grid_template_rows": null,
            "height": null,
            "justify_content": null,
            "justify_items": null,
            "left": null,
            "margin": null,
            "max_height": null,
            "max_width": null,
            "min_height": null,
            "min_width": null,
            "object_fit": null,
            "object_position": null,
            "order": null,
            "overflow": null,
            "overflow_x": null,
            "overflow_y": null,
            "padding": null,
            "right": null,
            "top": null,
            "visibility": null,
            "width": null
          }
        },
        "19ac67360bc24dccbe1add8763b54857": {
          "model_module": "@jupyter-widgets/controls",
          "model_module_version": "1.5.0",
          "model_name": "DescriptionStyleModel",
          "state": {
            "_model_module": "@jupyter-widgets/controls",
            "_model_module_version": "1.5.0",
            "_model_name": "DescriptionStyleModel",
            "_view_count": null,
            "_view_module": "@jupyter-widgets/base",
            "_view_module_version": "1.2.0",
            "_view_name": "StyleView",
            "description_width": ""
          }
        },
        "2ad2a69021064f278841d2c6bb856bba": {
          "model_module": "@jupyter-widgets/controls",
          "model_module_version": "1.5.0",
          "model_name": "LabelModel",
          "state": {
            "_dom_classes": [],
            "_model_module": "@jupyter-widgets/controls",
            "_model_module_version": "1.5.0",
            "_model_name": "LabelModel",
            "_view_count": null,
            "_view_module": "@jupyter-widgets/controls",
            "_view_module_version": "1.5.0",
            "_view_name": "LabelView",
            "description": "",
            "description_tooltip": null,
            "layout": "IPY_MODEL_1911d1a4af22487a9bbe0ddf2b58022e",
            "placeholder": "​",
            "style": "IPY_MODEL_19ac67360bc24dccbe1add8763b54857",
            "value": "Kaggle credentials successfully validated."
          }
        },
        "8d17f2a12ef949c49b2e88a2d7722587": {
          "model_module": "@jupyter-widgets/base",
          "model_module_version": "1.2.0",
          "model_name": "LayoutModel",
          "state": {
            "_model_module": "@jupyter-widgets/base",
            "_model_module_version": "1.2.0",
            "_model_name": "LayoutModel",
            "_view_count": null,
            "_view_module": "@jupyter-widgets/base",
            "_view_module_version": "1.2.0",
            "_view_name": "LayoutView",
            "align_content": null,
            "align_items": "center",
            "align_self": null,
            "border": null,
            "bottom": null,
            "display": "flex",
            "flex": null,
            "flex_flow": "column",
            "grid_area": null,
            "grid_auto_columns": null,
            "grid_auto_flow": null,
            "grid_auto_rows": null,
            "grid_column": null,
            "grid_gap": null,
            "grid_row": null,
            "grid_template_areas": null,
            "grid_template_columns": null,
            "grid_template_rows": null,
            "height": null,
            "justify_content": null,
            "justify_items": null,
            "left": null,
            "margin": null,
            "max_height": null,
            "max_width": null,
            "min_height": null,
            "min_width": null,
            "object_fit": null,
            "object_position": null,
            "order": null,
            "overflow": null,
            "overflow_x": null,
            "overflow_y": null,
            "padding": null,
            "right": null,
            "top": null,
            "visibility": null,
            "width": "50%"
          }
        },
        "b51ce2ad79094c6d9e06552d3dd6432a": {
          "model_module": "@jupyter-widgets/controls",
          "model_module_version": "1.5.0",
          "model_name": "VBoxModel",
          "state": {
            "_dom_classes": [],
            "_model_module": "@jupyter-widgets/controls",
            "_model_module_version": "1.5.0",
            "_model_name": "VBoxModel",
            "_view_count": null,
            "_view_module": "@jupyter-widgets/controls",
            "_view_module_version": "1.5.0",
            "_view_name": "VBoxView",
            "box_style": "",
            "children": [
              "IPY_MODEL_2ad2a69021064f278841d2c6bb856bba"
            ],
            "layout": "IPY_MODEL_8d17f2a12ef949c49b2e88a2d7722587"
          }
        }
      }
    }
  },
  "nbformat": 4,
  "nbformat_minor": 0
}